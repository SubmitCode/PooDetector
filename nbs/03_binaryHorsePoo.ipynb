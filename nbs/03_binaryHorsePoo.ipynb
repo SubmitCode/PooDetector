{
 "cells": [
  {
   "cell_type": "code",
   "execution_count": null,
   "metadata": {},
   "outputs": [],
   "source": [
    "# default_exp models.binaryClassification\n",
    "# default_cls_lvl 2"
   ]
  },
  {
   "cell_type": "markdown",
   "metadata": {},
   "source": [
    "# Binary Horse Poo Model\n",
    "\n",
    "> Simple model to detect HorsePoo vs noHorsePoo"
   ]
  },
  {
   "cell_type": "markdown",
   "metadata": {},
   "source": [
    "## export data"
   ]
  },
  {
   "cell_type": "code",
   "execution_count": null,
   "metadata": {},
   "outputs": [],
   "source": [
    "%load_ext autoreload\n",
    "%autoreload 2"
   ]
  },
  {
   "cell_type": "code",
   "execution_count": null,
   "metadata": {},
   "outputs": [],
   "source": [
    "#!rm -R data/tmp/horse_poo/ && rm -R data/tmp/no_horse_poo/ "
   ]
  },
  {
   "cell_type": "code",
   "execution_count": null,
   "metadata": {},
   "outputs": [],
   "source": [
    "#!prodigy db-out binary_horse_poo ./data/tmp"
   ]
  },
  {
   "cell_type": "markdown",
   "metadata": {},
   "source": [
    "## Description\n",
    "With this model we will start of with a very simple binary classification. We will try to use most of the default settings from fastai. This will also be our benchmark model for further investigations. "
   ]
  },
  {
   "cell_type": "code",
   "execution_count": null,
   "metadata": {},
   "outputs": [],
   "source": [
    "#export\n",
    "from fastai.vision import * \n",
    "from fastai.callbacks import EarlyStoppingCallback\n",
    "from prodigy.util import read_jsonl, write_jsonl\n",
    "from prodigy.components.db import connect\n",
    "from PooDetector.dataset_operations import extract_jsonl_to_binary_folders\n",
    "import os\n",
    "import shutil\n",
    "from fastscript import *"
   ]
  },
  {
   "cell_type": "code",
   "execution_count": null,
   "metadata": {},
   "outputs": [],
   "source": [
    "#export\n",
    "def prepare_data(fld_input:str='data/tmp', bs=256):\n",
    "    \"\"\"function to get a fastai databunch which can be used for training\"\"\"\n",
    "    #tfms = get_transforms(do_flip=False, max_zoom=1, max_warp=None)\n",
    "    #t_tfms = []\n",
    "    #t_tfms.append(flip_lr(p=0.5))\n",
    "    #t_tfms.append(symmetric_warp(magnitude=(-0.2,0.2), p=0.75))\n",
    "    #t_tfms.append(rotate(degrees=(-10,10), p=0.75))\n",
    "    #t_tfms.append(rand_zoom(scale=(1.,1.1), p=0.75))\n",
    "    #t_tfms.append(brightness(change=(0.5*(1-0.2), 0.5*(1+0.2)), p=0.75))\n",
    "    #t_tfms.append(contrast(scale=(1-0.2, 1/(1-0.2)), p=0.75))\n",
    "    #tfms =  (t_tfms , [])\n",
    "    tfms = get_transforms()\n",
    "    return (ImageList.from_folder(fld_input)\n",
    "            .split_by_rand_pct(0.2)         \n",
    "            .label_from_folder()\n",
    "            .transform(tfms, size=224)\n",
    "            .databunch(bs=bs)\n",
    "            .normalize(imagenet_stats))\n"
   ]
  },
  {
   "cell_type": "code",
   "execution_count": null,
   "metadata": {},
   "outputs": [],
   "source": [
    "#no_testing\n",
    "data = prepare_data(fld_input='test_data/', bs=16)"
   ]
  },
  {
   "cell_type": "code",
   "execution_count": null,
   "metadata": {},
   "outputs": [],
   "source": [
    "#no_testing\n",
    "data.show_batch()"
   ]
  },
  {
   "cell_type": "code",
   "execution_count": null,
   "metadata": {},
   "outputs": [],
   "source": [
    "#export \n",
    "def get_learner(data:ImageDataBunch=None, model:Module=None):\n",
    "    \"\"\"get a lerner object for training\"\"\"\n",
    "    if data is None:\n",
    "        data = prepare_data()\n",
    "    if model is None:\n",
    "        model = models.resnet50\n",
    "        \n",
    "    early_stopping = partial(EarlyStoppingCallback,  min_delta=0.005, patience=8)\n",
    "    \n",
    "    return cnn_learner(data, base_arch=model, callback_fns=[early_stopping])"
   ]
  },
  {
   "cell_type": "code",
   "execution_count": null,
   "metadata": {},
   "outputs": [],
   "source": [
    "#no_testing\n",
    "learn = get_learner(data=data)"
   ]
  },
  {
   "cell_type": "code",
   "execution_count": null,
   "metadata": {},
   "outputs": [],
   "source": [
    "#no_testing\n",
    "learn.fit_one_cycle(2, 5e-2)\n",
    "#learn.fit_one_cycle(2, 5e-2)\n",
    "learn.save('stage1')"
   ]
  },
  {
   "cell_type": "code",
   "execution_count": null,
   "metadata": {},
   "outputs": [],
   "source": [
    "#no_testing\n",
    "learn.export()"
   ]
  },
  {
   "cell_type": "code",
   "execution_count": null,
   "metadata": {},
   "outputs": [],
   "source": [
    "#export \n",
    "@call_parse\n",
    "def train_model(path_jsonl:Param(\"path to jsonl file\", str)='test_data/binary_horse_poo.jsonl',\n",
    "                cycles_to_fit:Param(\"number of cycles to fit\", int)=10, \n",
    "                bs:Param(\"batch size\", int)=128,\n",
    "                label:Param(\"positive label for binary classification\", str)=\"horse_poo\"\n",
    "               ):\n",
    "    \"\"\"start training a new model with early stopping and export it\"\"\"\n",
    "    path_jsonl = Path(path_jsonl)\n",
    "    if path_jsonl.exists():\n",
    "        path_jsonl.unlink()\n",
    "        \n",
    "    db = connect()   # uses settings from your prodigy.json\n",
    "    images = db.get_dataset(\"binary_horse_poo\")\n",
    "    write_jsonl(path_jsonl, images)\n",
    "    \n",
    "    remove_subfolders(str(path_jsonl.parent))\n",
    "    \n",
    "    extract_jsonl_to_binary_folders(str(path_jsonl), label)\n",
    "    \n",
    "    data = prepare_data(path_jsonl.parent, bs=bs)\n",
    "    \n",
    "    learn = get_learner(data)\n",
    "    learn.fit_one_cycle(cycles_to_fit, 5e-2)\n",
    "    learn.export()\n",
    "    return learn\n",
    "    \n",
    "    \n",
    "    \n",
    " \n"
   ]
  },
  {
   "cell_type": "code",
   "execution_count": null,
   "metadata": {},
   "outputs": [],
   "source": [
    "#export \n",
    "def remove_subfolders(path_parent:[Path, str]):\n",
    "    \"\"\"reomve all subfolders\"\"\"\n",
    "    path_parent = Path(path_parent)\n",
    "    for root, dirs, files in os.walk(str(path_parent), topdown=False):\n",
    "        for directory in dirs:\n",
    "            print(f\"remove {str(Path(root) / Path(directory))}\")\n",
    "            shutil.rmtree(str(Path(root) / Path(directory)))\n",
    "    "
   ]
  },
  {
   "cell_type": "code",
   "execution_count": null,
   "metadata": {},
   "outputs": [],
   "source": [
    "#no_testing\n",
    "path = Path('test_data/tmp/')\n",
    "\n",
    "if os.path.exists(str(path)) is False:\n",
    "    os.mkdir(str(path))\n",
    "    \n",
    "if os.path.exists(str(path / 'horse')) is False:\n",
    "    os.mkdir(str(path / 'horse'))\n",
    "    \n",
    "if os.path.exists(str(path / 'no_horse')) is False:\n",
    "    os.mkdir(str(path / 'no_horse'))\n",
    "    \n",
    "assert os.path.exists(str(path))\n",
    "assert os.path.exists(str(path / 'horse'))\n",
    "assert os.path.exists(str(path / 'no_horse'))\n",
    "\n",
    "remove_subfolders(str(path))\n",
    "\n",
    "assert not os.path.exists(str(path / 'horse'))\n",
    "assert not os.path.exists(str(path / 'no_horse'))\n",
    "\n"
   ]
  },
  {
   "cell_type": "code",
   "execution_count": null,
   "metadata": {},
   "outputs": [],
   "source": [
    "# prepare test\n",
    "path_jsonl = 'test_data/binary_horse_poo.jsonl' \n",
    "path_jsonl = Path(path_jsonl)\n",
    "\n",
    "if os.path.exists('test_data/tmp') is False:\n",
    "    os.mkdir('test_data/tmp')\n",
    "\n",
    "path_fld_target = path_jsonl.parent / 'tmp'\n",
    "\n",
    "shutil.copy(str(path_jsonl), str(path_fld_target) )\n",
    "path_jsonl = path_fld_target / path_jsonl.name\n",
    "assert os.path.exists(path_jsonl)\n",
    "\n",
    "#test\n",
    "#learn = train_model(path_jsonl=path_jsonl, cycles_to_fit=2, bs=4)\n",
    "                    \n",
    "                    \n",
    "#assert os.path.exists(str(path_jsonl.parent / 'export.pkl'))\n"
   ]
  },
  {
   "cell_type": "code",
   "execution_count": null,
   "metadata": {},
   "outputs": [],
   "source": [
    "#no_testing\n",
    "#!prodigy db-out binary_horse_poo > data/tmp/binary_horse_poo.jsonl\n",
    "path_jsonl = 'data/tmp/binary_horse_poo.jsonl'\n",
    "learn = train_model(path_jsonl=path_jsonl, cycles_to_fit=15, bs=128)"
   ]
  },
  {
   "cell_type": "code",
   "execution_count": null,
   "metadata": {},
   "outputs": [],
   "source": [
    "#no_testing\n",
    "learn.unfreeze()"
   ]
  },
  {
   "cell_type": "code",
   "execution_count": null,
   "metadata": {},
   "outputs": [],
   "source": [
    "#no_testing\n",
    "learn.fit_one_cycle(8)"
   ]
  },
  {
   "cell_type": "code",
   "execution_count": null,
   "metadata": {},
   "outputs": [],
   "source": [
    "#no_testing\n",
    "learn.fit_one_cycle(8)"
   ]
  },
  {
   "cell_type": "code",
   "execution_count": null,
   "metadata": {},
   "outputs": [],
   "source": [
    "#no_testing\n",
    "learn.export() "
   ]
  },
  {
   "cell_type": "code",
   "execution_count": null,
   "metadata": {},
   "outputs": [],
   "source": []
  }
 ],
 "metadata": {
  "kernelspec": {
   "display_name": "Python 3",
   "language": "python",
   "name": "python3"
  }
 },
 "nbformat": 4,
 "nbformat_minor": 4
}