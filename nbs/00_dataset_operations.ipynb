{
 "cells": [
  {
   "cell_type": "code",
   "execution_count": null,
   "metadata": {},
   "outputs": [],
   "source": [
    "# default_exp dataset_operations\n",
    "# default_cls_lvl 2 "
   ]
  },
  {
   "cell_type": "markdown",
   "metadata": {},
   "source": [
    "# Dataset Operations \n",
    "> This models converts jsonl in labeld folders."
   ]
  },
  {
   "cell_type": "code",
   "execution_count": null,
   "metadata": {},
   "outputs": [],
   "source": [
    "#export\n",
    "from prodigy.util import b64_uri_to_bytes\n",
    "from prodigy import get_stream\n",
    "from pathlib import Path\n",
    "import PIL.Image\n",
    "import fire\n",
    "import io\n",
    "#from fastscript import *"
   ]
  },
  {
   "cell_type": "code",
   "execution_count": null,
   "metadata": {},
   "outputs": [],
   "source": [
    "#export \n",
    "def create_folders(path:str, label:str) -> None:\n",
    "    \"\"\"create the target folder\"\"\"\n",
    "    path = Path(path)\n",
    "    path.mkdir(parents=True, exist_ok=True)\n",
    "    path_pos = path / label\n",
    "    path_pos.mkdir(parents=True, exist_ok=True)\n",
    "    path_neg = path / ('no_' + label)\n",
    "    path_neg.mkdir(parents=True, exist_ok=True)"
   ]
  },
  {
   "cell_type": "code",
   "execution_count": null,
   "metadata": {},
   "outputs": [],
   "source": [
    "#export \n",
    "def save_base64_image(path, filename, uri):\n",
    "    \"\"\"save base64 encoded image \"\"\"\n",
    "    tgt_path = Path(path) / filename\n",
    "    pil_image = PIL.Image.open(io.BytesIO(b64_uri_to_bytes(uri)))\n",
    "    pil_image.save(str(tgt_path))"
   ]
  },
  {
   "cell_type": "code",
   "execution_count": null,
   "metadata": {},
   "outputs": [],
   "source": [
    "#export\n",
    "def extract_jsonl_to_binary_folders(\n",
    "        path:str='data/binary_horse_poo.jsonl',\n",
    "        positive_label:str='horse_poo'\n",
    "    ):\n",
    "    \"\"\"this function extracts pictures to folders based on the answer key\"\"\"\n",
    "    print(path)\n",
    "    path = Path(path) #convert to pathlib\n",
    "    stream = get_stream(str(path)) \n",
    "    create_folders(str(path.parent), positive_label)\n",
    "    \n",
    "    for task in stream:\n",
    "        if task['answer'] == 'accept':\n",
    "            #print(f\"{str(path.parent / positive_label), task['text'] + '.jpg'}\")\n",
    "            save_base64_image(str(path.parent / positive_label), task['text'] + '.jpg', task['image'])\n",
    "        if task['answer'] == 'reject':\n",
    "            #print(f\"{str(path.parent / ('no_' + positive_label)), task['text'] + '.jpg'}\")\n",
    "            save_base64_image(str(path.parent / ('no_' + positive_label)), task['text'] + '.jpg', task['image'])\n",
    "        \n"
   ]
  },
  {
   "cell_type": "code",
   "execution_count": null,
   "metadata": {},
   "outputs": [],
   "source": [
    "#extract_jsonl_to_binary_folders()"
   ]
  },
  {
   "cell_type": "code",
   "execution_count": null,
   "metadata": {},
   "outputs": [
    {
     "name": "stdout",
     "output_type": "stream",
     "text": [
      "Converted 00_dataset_operations.ipynb.\n",
      "Converted 01_custom_receipe.ipynb.\n",
      "Converted 02_capture_camera.ipynb.\n",
      "Converted 03_binaryHorsePoo.ipynb.\n",
      "Converted 04_Feeder_Ops.ipynb.\n",
      "Converted index.ipynb.\n"
     ]
    }
   ],
   "source": [
    "from nbdev.export import *\n",
    "notebook2script()"
   ]
  },
  {
   "cell_type": "code",
   "execution_count": null,
   "metadata": {},
   "outputs": [],
   "source": []
  }
 ],
 "metadata": {
  "kernelspec": {
   "display_name": "Python 3",
   "language": "python",
   "name": "python3"
  }
 },
 "nbformat": 4,
 "nbformat_minor": 4
}
