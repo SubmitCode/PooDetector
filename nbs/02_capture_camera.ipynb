{
 "cells": [
  {
   "cell_type": "code",
   "execution_count": null,
   "metadata": {},
   "outputs": [],
   "source": [
    "# default_exp capture_camera\n",
    "# default_cls_lvl 2 "
   ]
  },
  {
   "cell_type": "code",
   "execution_count": null,
   "metadata": {},
   "outputs": [],
   "source": [
    "#hide\n",
    "from nbdev.showdoc import *"
   ]
  },
  {
   "cell_type": "markdown",
   "metadata": {},
   "source": [
    "# Capture Camera\n",
    "This script captures the camera pictures and saves it in folder. We will use it especially for the training phase. To make the module callable we use the very handy [fastscript library](https://github.com/fastai/fastscript)."
   ]
  },
  {
   "cell_type": "code",
   "execution_count": null,
   "metadata": {},
   "outputs": [],
   "source": [
    "#export\n",
    "import os\n",
    "import argparse\n",
    "from datetime import datetime\n",
    "import time\n",
    "import logging\n",
    "import numpy as np\n",
    "import cv2\n",
    "import sys\n",
    "from pathlib import Path\n",
    "from logging.handlers import RotatingFileHandler\n",
    "from dotenv import load_dotenv\n",
    "from fastscript import *"
   ]
  },
  {
   "cell_type": "code",
   "execution_count": null,
   "metadata": {},
   "outputs": [],
   "source": [
    "#export\n",
    "def create_logger(log_file=None):\n",
    "    \"\"\"\n",
    "    Initialize global logger and return it.\n",
    "\n",
    "    :param log_file: log to this file, or to standard output if None\n",
    "    :return: created logger\n",
    "    \"\"\"\n",
    "    formatter = logging.Formatter(\n",
    "        fmt='%(asctime)s %(message)s',\n",
    "        datefmt='%Y-%m-%d %H:%M:%S')\n",
    "    log = logging.getLogger()\n",
    "    log.setLevel(logging.INFO)\n",
    "    if log_file is not None:\n",
    "        os.makedirs(os.path.dirname(log_file), exist_ok=True)\n",
    "        handler = RotatingFileHandler(\n",
    "            log_file,\n",
    "            maxBytes=1024*1024*30,\n",
    "            backupCount=3)\n",
    "        handler.setFormatter(formatter)\n",
    "        log.addHandler(handler)\n",
    "        handler.setLevel(logging.DEBUG)\n",
    "\n",
    "    handler = logging.StreamHandler()\n",
    "    handler.setFormatter(formatter)\n",
    "    handler.setLevel(logging.INFO)\n",
    "    log.addHandler(handler)\n",
    "    return log"
   ]
  },
  {
   "cell_type": "code",
   "execution_count": null,
   "metadata": {},
   "outputs": [],
   "source": [
    "#export\n",
    "def create_folder(path: Path, foldername):\n",
    "    \"\"\" creates a folder if it does not exist already \"\"\"\n",
    "    (path / foldername).mkdir(parents=False, exist_ok=True)\n",
    "    return path / foldername"
   ]
  },
  {
   "cell_type": "code",
   "execution_count": null,
   "metadata": {},
   "outputs": [],
   "source": [
    "#export\n",
    "@call_parse\n",
    "def capture(\n",
    "    path_save_files:Param('Path to where the pics will be stored.', str)='/mnt/Data/to_label',\n",
    "    time_start:Param('time when recording starts', str)='8:00',\n",
    "    time_stop:Param('time when recording stops', str)='17:00',\n",
    "    file_log:Param('Path to where the log files will be stored', str)='/mnt/Data/capture_log',\n",
    "    path_env_file:Param('Path where we can find the .env file', str)='..',\n",
    "    sleep_time:Param('seconds to sleep between captures', float)=0.25):\n",
    "\n",
    "    \n",
    "    env_path = Path(path_env_file) / '.env'\n",
    "    load_dotenv(dotenv_path=env_path)\n",
    "    CAP_URL = os.getenv(\"CAP_URL\")\n",
    "    \n",
    "    logger = create_logger(file_log)\n",
    "\n",
    "    path = Path(path_save_files)\n",
    "    \n",
    "    time_start = int(\n",
    "        datetime.strptime(time_start,\n",
    "                          '%H:%M').strftime('%H%M'))\n",
    "\n",
    "    time_stop = int(\n",
    "        datetime.strptime(time_stop,\n",
    "                          '%H:%M').strftime('%H%M'))\n",
    "\n",
    "    current_date = datetime.today().date()\n",
    "    prev_date = datetime.min.date()\n",
    "    \n",
    "    while True:\n",
    "        time.sleep(10)\n",
    "        logger.info('outer while loop')\n",
    "\n",
    "        try:\n",
    "            cap = cv2.VideoCapture(CAP_URL)\n",
    "            cap.set(cv2.CAP_PROP_BUFFERSIZE, 1)\n",
    "            while cap.isOpened():\n",
    "                # read image\n",
    "                ret, pic = cap.read()\n",
    "                \n",
    "                if ret is False:\n",
    "                    logger.warning('pic not readable')\n",
    "                    break\n",
    "\n",
    "                now = datetime.now()\n",
    "                current_date = datetime.today().date()                \n",
    "                time_current = int(now.strftime('%H%M'))\n",
    "                \n",
    "                if time_start > time_current:\n",
    "                    continue\n",
    "\n",
    "                if time_stop < time_current:\n",
    "                    continue\n",
    "\n",
    "                if prev_date != current_date:\n",
    "                    fld_save_to = create_folder(path, current_date.strftime('%Y%m%d'))\n",
    "                    logger.info(f\"msg=update folder to {current_date}\")\n",
    "                \n",
    "                now_str = now.strftime('%Y%m%d%H%M%S_%f')\n",
    "                cv2.imwrite(str(fld_save_to / (now_str + '.jpg')), pic)\n",
    "                prev_date = datetime.today().date() #assign new date to compare to\n",
    "                \n",
    "                time.sleep(sleep_time)\n",
    "                \n",
    "        except Exception as e:\n",
    "            logger.error(sleep_time)\n",
    "\n",
    "        finally:\n",
    "            cap.release()\n",
    "            cv2.destroyAllWindows()"
   ]
  },
  {
   "cell_type": "code",
   "execution_count": null,
   "metadata": {},
   "outputs": [
    {
     "data": {
      "text/plain": [
       "datetime.datetime(2020, 3, 16, 5, 51, 21, 33726)"
      ]
     },
     "execution_count": null,
     "metadata": {},
     "output_type": "execute_result"
    }
   ],
   "source": [
    "now = datetime.now()\n",
    "now"
   ]
  },
  {
   "cell_type": "code",
   "execution_count": null,
   "metadata": {},
   "outputs": [
    {
     "name": "stdout",
     "output_type": "stream",
     "text": [
      "Converted 02_capture_camera.ipynb.\n"
     ]
    }
   ],
   "source": [
    "from nbdev.export import *\n",
    "notebook2script('02_capture_camera.ipynb')\n"
   ]
  },
  {
   "cell_type": "code",
   "execution_count": null,
   "metadata": {},
   "outputs": [
    {
     "name": "stdout",
     "output_type": "stream",
     "text": [
      "2020-03-09 07:54:08 outer while loop\n",
      "^C\n",
      "Traceback (most recent call last):\n",
      "  File \"PooDetector/capture_camera.py\", line 62, in <module>\n",
      "    sleep_time:Param('seconds to sleep between captures', float)=0.25):\n",
      "  File \"/home/wilhelm/miniconda3/envs/PooDetector/lib/python3.7/site-packages/fastscript/fastscript.py\", line 43, in call_parse\n",
      "    if mod.__name__==\"__main__\": return _f()\n",
      "  File \"/home/wilhelm/miniconda3/envs/PooDetector/lib/python3.7/site-packages/fastscript/fastscript.py\", line 42, in _f\n",
      "    func(**args.__dict__)\n",
      "  File \"PooDetector/capture_camera.py\", line 93, in capture\n",
      "    ret, pic = cap.read()\n",
      "KeyboardInterrupt\n"
     ]
    }
   ],
   "source": [
    "#!python PooDetector/capture_camera.py"
   ]
  },
  {
   "cell_type": "code",
   "execution_count": null,
   "metadata": {},
   "outputs": [],
   "source": []
  }
 ],
 "metadata": {
  "kernelspec": {
   "display_name": "Python 3",
   "language": "python",
   "name": "python3"
  }
 },
 "nbformat": 4,
 "nbformat_minor": 4
}
