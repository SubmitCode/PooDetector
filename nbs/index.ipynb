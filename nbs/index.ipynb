{
 "cells": [
  {
   "cell_type": "markdown",
   "metadata": {},
   "source": [
    "# Welcome to PooDetector\n",
    "\n",
    "> Use AI to detect horse poo."
   ]
  },
  {
   "cell_type": "markdown",
   "metadata": {},
   "source": [
    "The goal of this library is to operationalize the HorsePooDetector. Read more about this [here](https://www.linkedin.com/pulse/real-world-ai-finding-horse-poo-wilhelm-fritsche-cfa-cqf-pmp/)"
   ]
  },
  {
   "cell_type": "markdown",
   "metadata": {},
   "source": [
    "## getting started\n"
   ]
  },
  {
   "cell_type": "markdown",
   "metadata": {},
   "source": [
    "### Prodigy\n",
    "Here are some useful commands from the [documentation](https://prodi.gy/docs/)\n",
    " \n",
    " - ```prodigy stats ``` shows some statistics\n",
    " - ```prodigy help ``` \n",
    " - ```prodigy stats --list-datasets ``` \n",
    " - ```prodigy stats dataset_name -l ``` shows dataset stats\n",
    " - ```prodigy drop dataset_name ```\n",
    "\n",
    " "
   ]
  }
 ],
 "metadata": {
  "jekyll": {
   "keywords": "fastai",
   "toc": "false"
  },
  "kernelspec": {
   "display_name": "Python 3",
   "language": "python",
   "name": "python3"
  }
 },
 "nbformat": 4,
 "nbformat_minor": 2
}
