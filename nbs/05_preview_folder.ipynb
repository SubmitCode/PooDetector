{
 "cells": [
  {
   "cell_type": "code",
   "execution_count": null,
   "metadata": {},
   "outputs": [],
   "source": [
    "# default_exp preview_folder\n",
    "# default_cls_lvl 2"
   ]
  },
  {
   "cell_type": "markdown",
   "metadata": {},
   "source": [
    "# Preview Folder\n",
    "> This model takes pictures every x minutes and saves them in a separate folder and also organizes pictures in different folders"
   ]
  },
  {
   "cell_type": "code",
   "execution_count": null,
   "metadata": {},
   "outputs": [],
   "source": [
    "#hide\n",
    "from nbdev.showdoc import *"
   ]
  },
  {
   "cell_type": "markdown",
   "metadata": {},
   "source": [
    "## Imports"
   ]
  },
  {
   "cell_type": "code",
   "execution_count": null,
   "metadata": {},
   "outputs": [],
   "source": [
    "#export\n",
    "import os\n",
    "import shutil\n",
    "from datetime import datetime\n",
    "from pathlib import Path\n",
    "import pandas as pd"
   ]
  },
  {
   "cell_type": "code",
   "execution_count": null,
   "metadata": {},
   "outputs": [],
   "source": [
    "#export\n",
    "def convert_path_timestamp(path:[str,Path]):\n",
    "    \"\"\"converts a filename to timestamp\"\"\"\n",
    "    path = Path(path)\n",
    "    if path.is_file() is False:\n",
    "        return None\n",
    "    \n",
    "    filename = path.stem\n",
    "    return datetime.strptime(filename[:14], '%Y%m%d%H%M%S')"
   ]
  },
  {
   "cell_type": "code",
   "execution_count": null,
   "metadata": {},
   "outputs": [
    {
     "ename": "AssertionError",
     "evalue": "",
     "output_type": "error",
     "traceback": [
      "\u001b[0;31m---------------------------------------------------------------------------\u001b[0m",
      "\u001b[0;31mAssertionError\u001b[0m                            Traceback (most recent call last)",
      "\u001b[0;32m<ipython-input-10-5e945249bcb4>\u001b[0m in \u001b[0;36m<module>\u001b[0;34m\u001b[0m\n\u001b[1;32m      1\u001b[0m \u001b[0mpath\u001b[0m \u001b[0;34m=\u001b[0m \u001b[0mPath\u001b[0m\u001b[0;34m(\u001b[0m\u001b[0;34m'data/to_label/20200320/20200320062300_006411.jpg'\u001b[0m\u001b[0;34m)\u001b[0m\u001b[0;34m\u001b[0m\u001b[0;34m\u001b[0m\u001b[0m\n\u001b[0;32m----> 2\u001b[0;31m \u001b[0;32massert\u001b[0m \u001b[0mtype\u001b[0m\u001b[0;34m(\u001b[0m\u001b[0mconvert_path_timestamp\u001b[0m\u001b[0;34m(\u001b[0m\u001b[0mpath\u001b[0m\u001b[0;34m)\u001b[0m\u001b[0;34m)\u001b[0m \u001b[0;32mis\u001b[0m \u001b[0mdatetime\u001b[0m\u001b[0;34m\u001b[0m\u001b[0;34m\u001b[0m\u001b[0m\n\u001b[0m",
      "\u001b[0;31mAssertionError\u001b[0m: "
     ]
    }
   ],
   "source": [
    "path = Path('data/to_label/20200320/20200320062300_006411.jpg')\n",
    "assert type(convert_path_timestamp(path)) is datetime"
   ]
  },
  {
   "cell_type": "code",
   "execution_count": null,
   "metadata": {},
   "outputs": [],
   "source": [
    "def get_filename_df(path_folder:[str, Path]):\n",
    "    \"\"\"converts image filepaths to a pandas df\"\"\"\n",
    "    path_folder = Path(path_folder)\n",
    "    paths = list(path_folder.glob('**/*.jpg'))\n",
    "    dates = [int(path.stem[:8]) for path in paths]\n",
    "    hour = [int(path.stem[8:10]) for path in paths]\n",
    "    datehour = [int(path.stem[:10]) for path in paths]\n",
    "    paths_times = [convert_path_timestamp(path) for path in paths]\n",
    "    df = pd.DataFrame(data={\"path\":paths, \"date\":dates, \"hour\":hour, \"datehour\": datehour}, index=paths_times)\n",
    "    df = df.sort_index()\n",
    "    return df\n",
    "    "
   ]
  },
  {
   "cell_type": "code",
   "execution_count": null,
   "metadata": {},
   "outputs": [
    {
     "name": "stdout",
     "output_type": "stream",
     "text": [
      "Empty DataFrame\n",
      "Columns: [path, date, hour, datehour]\n",
      "Index: []\n"
     ]
    }
   ],
   "source": [
    "df = get_filename_df('data/to_label/20200320/')\n",
    "print(df)\n",
    "assert type(df) == pd.DataFrame\n",
    "assert 'datehour' in df.columns"
   ]
  },
  {
   "cell_type": "code",
   "execution_count": null,
   "metadata": {},
   "outputs": [],
   "source": [
    "def create_datehour_folders(path:[str, Path], df:pd.DataFrame):\n",
    "    \"\"\"create a folder for every datehour combination in the dataframe\"\"\"\n",
    "    assert 'datehour' in df.columns\n",
    "    path = Path(path)\n",
    "    for datehour in df.datehour.unique():\n",
    "        print(f\"create folder {datehour}\")\n",
    "        (path / str(datehour)).mkdir(exist_ok=True)"
   ]
  },
  {
   "cell_type": "code",
   "execution_count": null,
   "metadata": {},
   "outputs": [],
   "source": [
    "path = Path('data/to_label/')\n",
    "create_datehour_folders(path, df)\n",
    "\n",
    "for datehour in df.datehour.unique():\n",
    "    t_path = path / str(datehour)\n",
    "    assert (t_path).exists()\n",
    "    t_path.rmdir()\n",
    "        "
   ]
  },
  {
   "cell_type": "code",
   "execution_count": null,
   "metadata": {},
   "outputs": [],
   "source": [
    "def move_files(df:pd.DataFrame, path:[str, Path]):\n",
    "    \"\"\"move files from source folder to target folder\"\"\"\n",
    "    path = Path(path)\n",
    "    for index, row in df.iterrows():\n",
    "        path_source = Path(row['path'])\n",
    "        path_dest = path / str(row['datehour']) / path_source.name\n",
    "        shutil.move(str(path_source), str(path_dest))\n",
    "        #print(f\"move from {path_source} to {path_dest}\")\n",
    "        \n",
    "def remove_folder(path:[str, Path]):\n",
    "    \"\"\"removes folder and all files and folders within\"\"\"\n",
    "    path = Path(path)\n",
    "    for child in path.glob('*'):\n",
    "        if child.is_file():\n",
    "            child.unlink()\n",
    "        else:\n",
    "            rm_tree(child)\n",
    "    path.rmdir()\n",
    "        \n",
    "def to_hour_folder(path_source:[str, Path]):\n",
    "    \"\"\"moves files from daily folder to hourly folders\"\"\"\n",
    "    path_source = Path(path_source)\n",
    "    df = get_filename_df(path_source)\n",
    "    create_datehour_folders(path_source.parent, df)\n",
    "    move_files(df, path_source.parent)\n",
    "    remove_folder(path_source)"
   ]
  },
  {
   "cell_type": "code",
   "execution_count": null,
   "metadata": {},
   "outputs": [
    {
     "name": "stdout",
     "output_type": "stream",
     "text": [
      "20200328  20200330  20200401  20200403\tauswahl  special2\r\n",
      "20200329  20200331  20200402  20200404\tspecial\r\n"
     ]
    }
   ],
   "source": [
    "!ls data/to_label/\n"
   ]
  },
  {
   "cell_type": "code",
   "execution_count": null,
   "metadata": {},
   "outputs": [
    {
     "name": "stdout",
     "output_type": "stream",
     "text": [
      "create folder 2020032806\n",
      "create folder 2020032807\n",
      "create folder 2020032808\n",
      "create folder 2020032809\n",
      "create folder 2020032810\n",
      "create folder 2020032811\n",
      "create folder 2020032812\n",
      "create folder 2020032813\n",
      "create folder 2020032815\n",
      "create folder 2020032816\n",
      "create folder 2020032817\n",
      "create folder 2020032818\n",
      "create folder 2020032907\n",
      "create folder 2020032908\n",
      "create folder 2020032909\n",
      "create folder 2020032910\n",
      "create folder 2020032911\n",
      "create folder 2020032912\n",
      "create folder 2020032913\n",
      "create folder 2020032914\n",
      "create folder 2020032915\n",
      "create folder 2020032916\n",
      "create folder 2020032917\n",
      "create folder 2020032918\n",
      "create folder 2020032919\n"
     ]
    }
   ],
   "source": [
    "to_hour_folder('data/to_label/20200328/')\n",
    "to_hour_folder('data/to_label/20200329/')\n",
    "to_hour_folder('data/to_label/20200330/')\n",
    "to_hour_folder('data/to_label/20200331/')\n",
    "to_hour_folder('data/to_label/20200401/')\n",
    "to_hour_folder('data/to_label/20200402/')\n",
    "to_hour_folder('data/to_label/20200403/')"
   ]
  },
  {
   "cell_type": "code",
   "execution_count": null,
   "metadata": {},
   "outputs": [],
   "source": []
  },
  {
   "cell_type": "code",
   "execution_count": null,
   "metadata": {},
   "outputs": [],
   "source": []
  },
  {
   "cell_type": "code",
   "execution_count": null,
   "metadata": {},
   "outputs": [],
   "source": []
  },
  {
   "cell_type": "code",
   "execution_count": null,
   "metadata": {},
   "outputs": [],
   "source": []
  },
  {
   "cell_type": "markdown",
   "metadata": {},
   "source": [
    "## Export"
   ]
  },
  {
   "cell_type": "code",
   "execution_count": null,
   "metadata": {},
   "outputs": [
    {
     "name": "stdout",
     "output_type": "stream",
     "text": [
      "Converted 00_dataset_operations.ipynb.\nConverted 01_custom_receipe.ipynb.\nConverted 02_capture_camera.ipynb.\nConverted 03_binaryHorsePoo.ipynb.\nConverted 04_feeder_ops.ipynb.\nConverted 05_preview_folder.ipynb.\nConverted index.ipynb.\n"
     ]
    }
   ],
   "source": [
    "from nbdev.export import *\n",
    "notebook2script()"
   ]
  }
 ],
 "metadata": {
  "kernelspec": {
   "display_name": "Python 3",
   "language": "python",
   "name": "python3"
  }
 },
 "nbformat": 4,
 "nbformat_minor": 4
}
