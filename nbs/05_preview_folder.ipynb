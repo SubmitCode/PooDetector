{
 "cells": [
  {
   "cell_type": "code",
   "execution_count": null,
   "metadata": {},
   "outputs": [],
   "source": [
    "# default_exp preview_folder\n",
    "# default_cls_lvl 2"
   ]
  },
  {
   "cell_type": "markdown",
   "metadata": {},
   "source": [
    "# Preview Folder\n",
    "> This model takes pictures every x minutes and saves them in a separate folder and also organizes pictures in different folders"
   ]
  },
  {
   "cell_type": "code",
   "execution_count": null,
   "metadata": {},
   "outputs": [],
   "source": [
    "#hide\n",
    "from nbdev.showdoc import *"
   ]
  },
  {
   "cell_type": "markdown",
   "metadata": {},
   "source": [
    "## Imports"
   ]
  },
  {
   "cell_type": "code",
   "execution_count": null,
   "metadata": {},
   "outputs": [],
   "source": [
    "#export\n",
    "import os\n",
    "import shutil\n",
    "from datetime import datetime\n",
    "from pathlib import Path\n",
    "import pandas as pd"
   ]
  },
  {
   "cell_type": "code",
   "execution_count": null,
   "metadata": {},
   "outputs": [],
   "source": [
    "#export\n",
    "def convert_path_timestamp(path:[str,Path]):\n",
    "    \"\"\"converts a filename to timestamp\"\"\"\n",
    "    path = Path(path)\n",
    "    if path.is_file() is False:\n",
    "        return None\n",
    "    \n",
    "    filename = path.stem\n",
    "    return datetime.strptime(filename[:14], '%Y%m%d%H%M%S')"
   ]
  },
  {
   "cell_type": "code",
   "execution_count": null,
   "metadata": {},
   "outputs": [],
   "source": [
    "path = Path('data/to_label/20200320/20200320062300_006411.jpg')\n",
    "assert type(convert_path_timestamp(path)) is datetime"
   ]
  },
  {
   "cell_type": "code",
   "execution_count": null,
   "metadata": {},
   "outputs": [],
   "source": [
    "def get_filename_df(path_folder:[str, Path]):\n",
    "    \"\"\"converts image filepaths to a pandas df\"\"\"\n",
    "    path_folder = Path(path_folder)\n",
    "    paths = list(path_folder.glob('**/*.jpg'))\n",
    "    dates = [int(path.stem[:8]) for path in paths]\n",
    "    hour = [int(path.stem[8:10]) for path in paths]\n",
    "    datehour = [int(path.stem[:10]) for path in paths]\n",
    "    paths_times = [convert_path_timestamp(path) for path in paths]\n",
    "    df = pd.DataFrame(data={\"path\":paths, \"date\":dates, \"hour\":hour, \"datehour\": datehour}, index=paths_times)\n",
    "    df = df.sort_index()\n",
    "    return df\n",
    "    "
   ]
  },
  {
   "cell_type": "code",
   "execution_count": null,
   "metadata": {},
   "outputs": [],
   "source": [
    "df = get_filename_df('data/to_label/20200320/')\n",
    "print(df)\n",
    "assert type(df) == pd.DataFrame\n",
    "assert 'datehour' in df.columns"
   ]
  },
  {
   "cell_type": "code",
   "execution_count": null,
   "metadata": {},
   "outputs": [],
   "source": [
    "def create_datehour_folders(path:[str, Path], df:pd.DataFrame):\n",
    "    \"\"\"create a folder for every datehour combination in the dataframe\"\"\"\n",
    "    assert 'datehour' in df.columns\n",
    "    path = Path(path)\n",
    "    for datehour in df.datehour.unique():\n",
    "        print(f\"create folder {datehour}\")\n",
    "        (path / str(datehour)).mkdir(exist_ok=True)"
   ]
  },
  {
   "cell_type": "code",
   "execution_count": null,
   "metadata": {},
   "outputs": [],
   "source": [
    "path = Path('data/to_label/')\n",
    "create_datehour_folders(path, df)\n",
    "\n",
    "for datehour in df.datehour.unique():\n",
    "    t_path = path / str(datehour)\n",
    "    assert (t_path).exists()\n",
    "    t_path.rmdir()\n",
    "        "
   ]
  },
  {
   "cell_type": "code",
   "execution_count": null,
   "metadata": {},
   "outputs": [],
   "source": [
    "def move_files(df:pd.DataFrame, path:[str, Path]):\n",
    "    \"\"\"move files from source folder to target folder\"\"\"\n",
    "    path = Path(path)\n",
    "    for index, row in df.iterrows():\n",
    "        path_source = Path(row['path'])\n",
    "        path_dest = path / str(row['datehour']) / path_source.name\n",
    "        shutil.move(str(path_source), str(path_dest))\n",
    "        #print(f\"move from {path_source} to {path_dest}\")\n",
    "        \n",
    "def remove_folder(path:[str, Path]):\n",
    "    \"\"\"removes folder and all files and folders within\"\"\"\n",
    "    path = Path(path)\n",
    "    for child in path.glob('*'):\n",
    "        if child.is_file():\n",
    "            child.unlink()\n",
    "        else:\n",
    "            rm_tree(child)\n",
    "    path.rmdir()\n",
    "        \n",
    "def to_hour_folder(path_source:[str, Path]):\n",
    "    \"\"\"moves files from daily folder to hourly folders\"\"\"\n",
    "    path_source = Path(path_source)\n",
    "    df = get_filename_df(path_source)\n",
    "    create_datehour_folders(path_source.parent, df)\n",
    "    move_files(df, path_source.parent)\n",
    "    remove_folder(path_source)"
   ]
  },
  {
   "cell_type": "code",
   "execution_count": null,
   "metadata": {},
   "outputs": [],
   "source": [
    "!ls data/to_label/\n"
   ]
  },
  {
   "cell_type": "code",
   "execution_count": null,
   "metadata": {},
   "outputs": [],
   "source": [
    "to_hour_folder('data/to_label/20200328/')\n",
    "to_hour_folder('data/to_label/20200329/')\n",
    "to_hour_folder('data/to_label/20200330/')\n",
    "to_hour_folder('data/to_label/20200331/')\n",
    "to_hour_folder('data/to_label/20200401/')\n",
    "to_hour_folder('data/to_label/20200402/')\n",
    "to_hour_folder('data/to_label/20200403/')"
   ]
  },
  {
   "cell_type": "code",
   "execution_count": null,
   "metadata": {},
   "outputs": [],
   "source": []
  },
  {
   "cell_type": "code",
   "execution_count": null,
   "metadata": {},
   "outputs": [],
   "source": []
  },
  {
   "cell_type": "code",
   "execution_count": null,
   "metadata": {},
   "outputs": [],
   "source": []
  },
  {
   "cell_type": "code",
   "execution_count": null,
   "metadata": {},
   "outputs": [],
   "source": []
  },
  {
   "cell_type": "markdown",
   "metadata": {},
   "source": [
    "## Export"
   ]
  },
  {
   "cell_type": "code",
   "execution_count": null,
   "metadata": {},
   "outputs": [],
   "source": [
    "from nbdev.export import *\n",
    "notebook2script()"
   ]
  }
 ],
 "metadata": {
  "kernelspec": {
   "display_name": "Python 3",
   "language": "python",
   "name": "python3"
  }
 },
 "nbformat": 4,
 "nbformat_minor": 4
}
