{
 "cells": [
  {
   "cell_type": "code",
   "execution_count": null,
   "metadata": {},
   "outputs": [],
   "source": [
    "# default_exp data_loader"
   ]
  },
  {
   "cell_type": "markdown",
   "metadata": {},
   "source": [
    "# Data Loader"
   ]
  },
  {
   "cell_type": "code",
   "execution_count": null,
   "metadata": {},
   "outputs": [],
   "source": [
    "#export\n",
    "def get_dataloader(\n",
    "        path='test_data/sample.jsonl',\n",
    "        train_test_split=0.8,\n",
    "        batch_size_train=5,\n",
    "        batch_size_test=5,\n",
    "        shuffle_train=True,\n",
    "        perm_images=True,\n",
    "        transform_train=True,\n",
    "        transform_test=False,\n",
    "        class_names=None):\n",
    "    \"\"\" get the dataloader objects \"\"\"\n",
    "\n",
    "    # use our dataset and defined transformations\n",
    "    if class_names is None:\n",
    "        dataset = ProdigyDataReader(path, get_transforms(train=transform_train))\n",
    "        dataset_test = ProdigyDataReader(path, get_transforms(train=transform_test))\n",
    "    else:\n",
    "        dataset = ProdigyDataReader(path, get_transforms(train=transform_train),\n",
    "                                    object_categories=class_names)\n",
    "        dataset_test = ProdigyDataReader(path, get_transforms(train=transform_test),\n",
    "                                         object_categories=class_names)\n",
    "\n",
    "    # split the dataset in train and test set\n",
    "    if perm_images:\n",
    "        indices = torch.randperm(len(dataset)).tolist()\n",
    "    else:\n",
    "        indices = list(range(len(dataset)))\n",
    "\n",
    "    len_train = int(len(indices) * train_test_split)\n",
    "    dataset = torch.utils.data.Subset(dataset, indices[:len_train])\n",
    "    dataset_test = torch.utils.data.Subset(dataset_test, indices[len_train:])\n",
    "\n",
    "    # define training and validation data loaders\n",
    "    data_loader = torch.utils.data.DataLoader(\n",
    "        dataset, batch_size=batch_size_train, shuffle=shuffle_train, num_workers=0,\n",
    "        collate_fn=collate_fn)\n",
    "\n",
    "    data_loader_test = torch.utils.data.DataLoader(\n",
    "        dataset_test, batch_size=batch_size_test, shuffle=False, num_workers=0,\n",
    "        collate_fn=collate_fn)\n",
    "\n",
    "    return [data_loader, data_loader_test]\n",
    "\n",
    "\n",
    "def collate_fn(batch):\n",
    "    return tuple(zip(*batch))"
   ]
  },
  {
   "cell_type": "markdown",
   "metadata": {},
   "source": [
    "## Data Loader Tests"
   ]
  },
  {
   "cell_type": "code",
   "execution_count": null,
   "metadata": {},
   "outputs": [
    {
     "data": {
      "text/plain": [
       "\"dl = get_dataloader(\\n    path='test_data/sample.jsonl',\\n    train_test_split=0.6,\\n    shuffle_train=True,\\n    \\n)\""
      ]
     },
     "execution_count": null,
     "metadata": {},
     "output_type": "execute_result"
    }
   ],
   "source": [
    "'''dl = get_dataloader(\n",
    "    path='test_data/sample.jsonl',\n",
    "    train_test_split=0.6,\n",
    "    shuffle_train=True,\n",
    "    \n",
    ")'''\n",
    "\n",
    "# assert ....."
   ]
  },
  {
   "cell_type": "code",
   "execution_count": null,
   "metadata": {},
   "outputs": [],
   "source": []
  }
 ],
 "metadata": {
  "kernelspec": {
   "display_name": "Python 3",
   "language": "python",
   "name": "python3"
  }
 },
 "nbformat": 4,
 "nbformat_minor": 2
}
