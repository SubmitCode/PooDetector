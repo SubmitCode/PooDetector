{
 "cells": [
  {
   "cell_type": "code",
   "execution_count": null,
   "metadata": {},
   "outputs": [],
   "source": [
    "# default_exp feeder_ops\n",
    "# default_cls_lvl 2"
   ]
  },
  {
   "cell_type": "markdown",
   "metadata": {},
   "source": [
    "# Feeder Ops\n",
    "\n",
    "> Functions for controlling the feeding machine"
   ]
  },
  {
   "cell_type": "markdown",
   "metadata": {},
   "source": [
    "We will try to use different solutions for predicting pictures and deciding what we are going to do about them.\n",
    "- use a FileWatcher\n",
    "- "
   ]
  },
  {
   "cell_type": "code",
   "execution_count": null,
   "metadata": {},
   "outputs": [],
   "source": [
    "#export\n",
    "import os\n",
    "import argparse\n",
    "from datetime import datetime, timedelta, date\n",
    "import time\n",
    "import logging\n",
    "import numpy as np\n",
    "import cv2\n",
    "import sys\n",
    "import paramiko\n",
    "from pathlib import Path\n",
    "from logging.handlers import RotatingFileHandler\n",
    "from dotenv import load_dotenv\n",
    "from fastai.vision import *\n",
    "from fastscript import *\n",
    "from astral import LocationInfo\n",
    "from astral.sun import sun\n",
    "from dateutil import tz"
   ]
  },
  {
   "cell_type": "code",
   "execution_count": null,
   "metadata": {},
   "outputs": [],
   "source": [
    "#export\n",
    "from dotenv import load_dotenv, find_dotenv\n",
    "load_dotenv(find_dotenv())\n",
    "\n",
    "\n",
    "CAP_URL = os.getenv('CAP_URL', default='.')\n",
    "PATH_SAVE_FILES = os.getenv('PATH_SAVE_FILES', default='data')\n",
    "PATH_FILE_LOG = os.getenv('PATH_FILE_LOG', default='data/camera_log')\n",
    "SLEEP_TIME_BETWEEN_CAPTURE = float(os.getenv('SLEEP_TIME_BETWEEN_CAPTURE', default=0.25))\n",
    "\n",
    "\n",
    "ACTIVATE_PREDICTION = bool(os.getenv('ACTIVATE_PREDICTION', default=False))\n",
    "SLEEP_BETWEEN_FEEDING = int(os.getenv('SLEEP_BETWEEN_FEEDING', default=3600))\n",
    "PREDICTION_THRES = float(os.getenv('PREDICTION_THRES', default=0.98))\n",
    "MAX_FEEDING_SESSIONS_PER_DAY = int(os.getenv('MAX_FEEDING_SESSIONS_PER_DAY', default=4))\n",
    "ACTIVATE_FEEDER = bool(os.getenv('ACTIVATE_FEEDER', default=False))\n",
    "PATH_MODEL = os.getenv('PATH_MODEL', default='data')\n",
    "PATH_FOLDER_SUCCESSFUL_PREDICTIONS = os.getenv('PATH_FOLDER_SUCCESSFUL_PREDICTIONS', default='data/successful')\n",
    "\n",
    "FEEDER_URL = os.getenv('FEEDER_URL')\n",
    "FEEDER_USER = os.getenv('FEEDER_USER')\n",
    "FEEDER_PWD = os.getenv('FEEDER_PWD')\n",
    "FEEDER_CMD = os.getenv('FEEDER_CMD', default='echo test')\n",
    "\n"
   ]
  },
  {
   "cell_type": "code",
   "execution_count": null,
   "metadata": {},
   "outputs": [
    {
     "data": {
      "text/plain": [
       "'sudo python3 test2.py'"
      ]
     },
     "execution_count": null,
     "metadata": {},
     "output_type": "execute_result"
    }
   ],
   "source": [
    "FEEDER_CMD"
   ]
  },
  {
   "cell_type": "code",
   "execution_count": null,
   "metadata": {},
   "outputs": [],
   "source": [
    "#export\n",
    "def get_logger(log_file=None):\n",
    "    \"\"\"\n",
    "    Initialize global logger and return it.\n",
    "\n",
    "    :param log_file: log to this file, or to standard output if None\n",
    "    :return: created logger\n",
    "    \"\"\"\n",
    "    \n",
    "    formatter = logging.Formatter(\n",
    "        fmt='%(asctime)s %(message)s',\n",
    "        datefmt='%Y-%m-%d %H:%M:%S')\n",
    "    \n",
    "    log = logging.getLogger()\n",
    "    if len(log.handlers) >= 2:\n",
    "        return log\n",
    "        \n",
    "    log.setLevel(logging.INFO)\n",
    "    if log_file is not None:\n",
    "        os.makedirs(os.path.dirname(log_file), exist_ok=True)\n",
    "        handler = RotatingFileHandler(\n",
    "            log_file,\n",
    "            maxBytes=1024*1024*30,\n",
    "            backupCount=3)\n",
    "        handler.setFormatter(formatter)\n",
    "        log.addHandler(handler)\n",
    "        handler.setLevel(logging.DEBUG)\n",
    "\n",
    "    handler = logging.StreamHandler()\n",
    "    handler.setFormatter(formatter)\n",
    "    handler.setLevel(logging.INFO)\n",
    "    log.addHandler(handler)\n",
    "\n",
    "    return log"
   ]
  },
  {
   "cell_type": "code",
   "execution_count": null,
   "metadata": {},
   "outputs": [],
   "source": [
    "#export\n",
    "def create_folder(path: Path, foldername):\n",
    "    \"\"\" creates a folder if it does not exist already \"\"\"\n",
    "    (path / foldername).mkdir(parents=True, exist_ok=True)\n",
    "    return path / foldername"
   ]
  },
  {
   "cell_type": "code",
   "execution_count": null,
   "metadata": {},
   "outputs": [
    {
     "data": {
      "text/plain": [
       "True"
      ]
     },
     "execution_count": null,
     "metadata": {},
     "output_type": "execute_result"
    }
   ],
   "source": [
    "model = load_learner(PATH_MODEL)\n",
    "model.predict(open_image('data/horse_poo/20181215091846-poo_day.jpg'))[2][0].numpy() > 0"
   ]
  },
  {
   "cell_type": "code",
   "execution_count": null,
   "metadata": {},
   "outputs": [
    {
     "data": {
      "text/plain": [
       "1822"
      ]
     },
     "execution_count": null,
     "metadata": {},
     "output_type": "execute_result"
    }
   ],
   "source": [
    "time_start = int(s[\"sunrise\"].astimezone(tz.tzlocal()).strftime('%H%M'))\n",
    "\n",
    "time_stop = int(s[\"sunset\"].astimezone(tz.tzlocal()).strftime('%H%M'))\n",
    "time_stop\n",
    "    "
   ]
  },
  {
   "cell_type": "code",
   "execution_count": null,
   "metadata": {},
   "outputs": [],
   "source": [
    "#export\n",
    "def get_sunrise():\n",
    "    \"\"\"gets the sunrise as an int\"\"\"\n",
    "    city = LocationInfo(\"Ludesch\", \"Austria\", \"Europe/Berlin\", 47.2, 9.7)\n",
    "    s = sun(city.observer, date= datetime.now())\n",
    "    return int(s[\"sunrise\"].astimezone(tz.tzlocal()).strftime('%H%M'))\n",
    "\n",
    "\n",
    "def get_sunset():\n",
    "    \"\"\"gets the sunset as an int\"\"\"\n",
    "    city = LocationInfo(\"Ludesch\", \"Austria\", \"Europe/Berlin\", 47.2, 9.7)\n",
    "    s = sun(city.observer, date= datetime.now())\n",
    "    return int(s[\"sunset\"].astimezone(tz.tzlocal()).strftime('%H%M'))"
   ]
  },
  {
   "cell_type": "code",
   "execution_count": null,
   "metadata": {},
   "outputs": [
    {
     "data": {
      "text/plain": [
       "639"
      ]
     },
     "execution_count": null,
     "metadata": {},
     "output_type": "execute_result"
    }
   ],
   "source": [
    "get_sunrise()"
   ]
  },
  {
   "cell_type": "code",
   "execution_count": null,
   "metadata": {},
   "outputs": [],
   "source": [
    "#export\n",
    "@call_parse\n",
    "def cap_and_predict():\n",
    "    \"\"\"this function captures camera pictures. To configure this function please use a .env file\"\"\"\n",
    "    \n",
    "    \n",
    "        \n",
    "    logger = get_logger(PATH_FILE_LOG)\n",
    "\n",
    "    path = Path(PATH_SAVE_FILES)    \n",
    "    \n",
    "    current_date = datetime.today().date()\n",
    "    prev_date = datetime.min.date\n",
    "    \n",
    "    \n",
    "    last_run_feeder = datetime.min\n",
    "    num_run_feeder_per_day = 0\n",
    "    \n",
    "    model = None\n",
    "    if ACTIVATE_PREDICTION:\n",
    "        model = load_learner(PATH_MODEL)\n",
    "    \n",
    "    while True:\n",
    "        time.sleep(10)\n",
    "        logger.info('outer while loop')\n",
    "\n",
    "        try:\n",
    "            cap = cv2.VideoCapture(CAP_URL)\n",
    "            cap.set(cv2.CAP_PROP_BUFFERSIZE, 1)\n",
    "            while cap.isOpened():\n",
    "                \n",
    "                ret, pic = cap.read()\n",
    "                \n",
    "                if ret is False:\n",
    "                    logger.warning('pic not readable')\n",
    "                    break\n",
    "\n",
    "                now = datetime.now()\n",
    "                current_date = datetime.today().date()                \n",
    "                time_current = int(now.strftime('%H%M'))\n",
    "                \n",
    "                if get_sunrise() > time_current:\n",
    "                    continue\n",
    "\n",
    "                if get_sunset() < time_current:\n",
    "                    continue\n",
    "\n",
    "                if prev_date != current_date:\n",
    "                    num_run_feeder_per_day = 0                    \n",
    "                    fld_save_to = create_folder(path, current_date.strftime('%Y%m%d'))\n",
    "                    logger.info(f\"msg=update folder to {current_date}\")\n",
    "                \n",
    "                now_str = now.strftime('%Y%m%d%H%M%S_%f')\n",
    "                path_save_file = fld_save_to / (now_str + '.jpg')\n",
    "                cv2.imwrite(str(path_save_file), pic)\n",
    "                prev_date = datetime.today().date() #assign new date to compare to\n",
    "                \n",
    "                prediction = None\n",
    "                if ACTIVATE_PREDICTION:\n",
    "                    img = open_image(path_save_file)\n",
    "                    prediction = model.predict(img)[2][0].numpy()\n",
    "                    folder =  Path(PATH_FOLDER_SUCCESSFUL_PREDICTIONS) / current_date.strftime('%Y%m%d')\n",
    "                    if prediction >= PREDICTION_THRES:\n",
    "                        folder = create_folder(Path(PATH_FOLDER_SUCCESSFUL_PREDICTIONS), \n",
    "                                               current_date.strftime('%Y%m%d'))\n",
    "                        img.save(folder / path_save_file.name)\n",
    "                \n",
    "                if ACTIVATE_FEEDER:\n",
    "                    if PREDICTION_THRES <= prediction:\n",
    "                        if (last_run_feeder + timedelta(seconds=SLEEP_BETWEEN_FEEDING) < datetime.now() \n",
    "                            and num_run_feeder_per_day <= MAX_FEEDING_SESSIONS_PER_DAY):\n",
    "                            log.info(\"running feeder\")\n",
    "                            last_run_feeder = datetime.now()\n",
    "                            num_run_feeder_per_day += 1\n",
    "                            run_feeder()                       \n",
    "                   \n",
    "                \n",
    "                time.sleep(SLEEP_TIME_BETWEEN_CAPTURE)\n",
    "                \n",
    "        except Exception as e:\n",
    "            logger.error(e)\n",
    "\n",
    "        finally:\n",
    "            cap.release()\n",
    "            cv2.destroyAllWindows()"
   ]
  },
  {
   "cell_type": "code",
   "execution_count": null,
   "metadata": {},
   "outputs": [
    {
     "data": {
      "text/plain": [
       "datetime.datetime(2020, 3, 12, 10, 28, 15, 201775)"
      ]
     },
     "execution_count": null,
     "metadata": {},
     "output_type": "execute_result"
    }
   ],
   "source": [
    "last_run_feeder = datetime.min\n",
    "last_run_feeder = datetime.now()\n",
    "last_run_feeder += timedelta(seconds=SLEEP_BETWEEN_FEEDING)\n",
    "last_run_feeder\n",
    "\n"
   ]
  },
  {
   "cell_type": "code",
   "execution_count": null,
   "metadata": {},
   "outputs": [],
   "source": [
    "#export\n",
    "def run_feeder():\n",
    "    \"\"\"runs feeder\"\"\"\n",
    "    log = get_logger(PATH_FILE_LOG)\n",
    "    ssh = paramiko.SSHClient()\n",
    "    ssh.set_missing_host_key_policy(paramiko.AutoAddPolicy())\n",
    "    ssh.connect(FEEDER_URL, username=FEEDER_USER, password=FEEDER_PWD)\n",
    "    ssh_stdin, ssh_stdout, ssh_stder = ssh.exec_command(FEEDER_CMD)\n",
    "    log.info(ssh_stdout.read())\n",
    "    log.info(ssh_stder.read())\n"
   ]
  },
  {
   "cell_type": "code",
   "execution_count": null,
   "metadata": {},
   "outputs": [
    {
     "name": "stderr",
     "output_type": "stream",
     "text": [
      "2020-03-12 09:28:17 Connected (version 2.0, client OpenSSH_7.4p1)\n",
      "2020-03-12 09:28:17 Authentication (publickey) successful!\n",
      "2020-03-12 09:28:18 b'test running engine\\n'\n",
      "2020-03-12 09:28:18 b''\n"
     ]
    }
   ],
   "source": [
    "run_feeder()"
   ]
  },
  {
   "cell_type": "code",
   "execution_count": null,
   "metadata": {},
   "outputs": [],
   "source": [
    "current_date = datetime.today().date()\n",
    "folder = create_folder(Path(PATH_FOLDER_SUCCESSFUL_PREDICTIONS), current_date.strftime('%Y%m%d'))"
   ]
  },
  {
   "cell_type": "code",
   "execution_count": null,
   "metadata": {},
   "outputs": [
    {
     "name": "stdout",
     "output_type": "stream",
     "text": [
      "Converted 04_Feeder_Ops.ipynb.\n"
     ]
    }
   ],
   "source": [
    "from nbdev.export import *\n",
    "notebook2script('04_Feeder_Ops.ipynb')\n"
   ]
  },
  {
   "cell_type": "code",
   "execution_count": null,
   "metadata": {},
   "outputs": [],
   "source": [
    "!python PooDetector/feeder_ops.py"
   ]
  },
  {
   "cell_type": "code",
   "execution_count": null,
   "metadata": {},
   "outputs": [],
   "source": []
  }
 ],
 "metadata": {
  "kernelspec": {
   "display_name": "Python 3",
   "language": "python",
   "name": "python3"
  }
 },
 "nbformat": 4,
 "nbformat_minor": 4
}
